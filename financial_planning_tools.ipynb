{
 "cells": [
  {
   "cell_type": "code",
   "execution_count": 3,
   "metadata": {},
   "outputs": [],
   "source": [
    "# Import the required libraries and dependencies\n",
    "import os\n",
    "import requests\n",
    "import json\n",
    "import pandas as pd\n",
    "from dotenv import load_dotenv\n",
    "import alpaca_trade_api as tradeapi\n",
    "from MCForecastTools import MCSimulation\n",
    "\n",
    "%matplotlib inline"
   ]
  },
  {
   "cell_type": "code",
   "execution_count": 4,
   "metadata": {},
   "outputs": [
    {
     "data": {
      "text/plain": [
       "True"
      ]
     },
     "execution_count": 4,
     "metadata": {},
     "output_type": "execute_result"
    }
   ],
   "source": [
    "# Load the environment variables from the .env file\n",
    "#by calling the load_dotenv function\n",
    "load_dotenv()"
   ]
  },
  {
   "cell_type": "markdown",
   "metadata": {},
   "source": [
    "## Financial Planner for Emergencies"
   ]
  },
  {
   "cell_type": "code",
   "execution_count": 5,
   "metadata": {},
   "outputs": [],
   "source": [
    "# The current number of coins for each cryptocurrency asset held in the portfolio.\n",
    "btc_coins = 1.2\n",
    "eth_coins = 5.3"
   ]
  },
  {
   "cell_type": "code",
   "execution_count": 6,
   "metadata": {},
   "outputs": [],
   "source": [
    "# The monthly amount for the member's household income\n",
    "monthly_income=12000"
   ]
  },
  {
   "cell_type": "code",
   "execution_count": 7,
   "metadata": {},
   "outputs": [],
   "source": [
    "# The Free Crypto API Call endpoint URLs for the held cryptocurrency assets\n",
    "btc_url = \"https://api.alternative.me/v2/ticker/Bitcoin/?convert=USD\"\n",
    "eth_url = \"https://api.alternative.me/v2/ticker/Ethereum/?convert=USD\""
   ]
  },
  {
   "cell_type": "code",
   "execution_count": 8,
   "metadata": {},
   "outputs": [
    {
     "name": "stdout",
     "output_type": "stream",
     "text": [
      "{\n",
      "    \"data\": {\n",
      "        \"1\": {\n",
      "            \"circulating_supply\": 18848593,\n",
      "            \"id\": 1,\n",
      "            \"last_updated\": 1634689449,\n",
      "            \"max_supply\": 21000000,\n",
      "            \"name\": \"Bitcoin\",\n",
      "            \"quotes\": {\n",
      "                \"USD\": {\n",
      "                    \"market_cap\": 1211274938672,\n",
      "                    \"percent_change_1h\": 0.20017648970065,\n",
      "                    \"percent_change_24h\": 3.13998434767543,\n",
      "                    \"percent_change_7d\": 14.0733862382802,\n",
      "                    \"percentage_change_1h\": 0.20017648970065,\n",
      "                    \"percentage_change_24h\": 3.13998434767543,\n",
      "                    \"percentage_change_7d\": 14.0733862382802,\n",
      "                    \"price\": 64263.0,\n",
      "                    \"volume_24h\": 42533909266\n",
      "                }\n",
      "            },\n",
      "            \"rank\": 1,\n",
      "            \"symbol\": \"BTC\",\n",
      "            \"total_supply\": 18848593,\n",
      "            \"website_slug\": \"bitcoin\"\n",
      "        }\n",
      "    },\n",
      "    \"metadata\": {\n",
      "        \"error\": null,\n",
      "        \"num_cryptocurrencies\": 3105,\n",
      "        \"timestamp\": 1634689449\n",
      "    }\n",
      "}\n"
     ]
    }
   ],
   "source": [
    "# Using the Python requests library, make an API call to access the current price of BTC\n",
    "btc_response = requests.get(btc_url).json()\n",
    "\n",
    "# Use the json.dumps function to review the response data from the API call\n",
    "# Use the indent and sort_keys parameters to make the response object readable\n",
    "print(json.dumps(btc_response, indent=4, sort_keys=True))\n"
   ]
  },
  {
   "cell_type": "code",
   "execution_count": 9,
   "metadata": {},
   "outputs": [
    {
     "name": "stdout",
     "output_type": "stream",
     "text": [
      "{\n",
      "    \"data\": {\n",
      "        \"1027\": {\n",
      "            \"circulating_supply\": 117996656,\n",
      "            \"id\": 1027,\n",
      "            \"last_updated\": 1634689455,\n",
      "            \"max_supply\": 0,\n",
      "            \"name\": \"Ethereum\",\n",
      "            \"quotes\": {\n",
      "                \"USD\": {\n",
      "                    \"market_cap\": 459044942977,\n",
      "                    \"percent_change_1h\": 0.313258261468508,\n",
      "                    \"percent_change_24h\": 3.13265200023842,\n",
      "                    \"percent_change_7d\": 11.1489129410317,\n",
      "                    \"percentage_change_1h\": 0.313258261468508,\n",
      "                    \"percentage_change_24h\": 3.13265200023842,\n",
      "                    \"percentage_change_7d\": 11.1489129410317,\n",
      "                    \"price\": 3888.11,\n",
      "                    \"volume_24h\": 17596918057\n",
      "                }\n",
      "            },\n",
      "            \"rank\": 2,\n",
      "            \"symbol\": \"ETH\",\n",
      "            \"total_supply\": 117996656,\n",
      "            \"website_slug\": \"ethereum\"\n",
      "        }\n",
      "    },\n",
      "    \"metadata\": {\n",
      "        \"error\": null,\n",
      "        \"num_cryptocurrencies\": 3105,\n",
      "        \"timestamp\": 1634689455\n",
      "    }\n",
      "}\n"
     ]
    }
   ],
   "source": [
    "# Using the Python requests library, make an API call to access the current price ETH\n",
    "eth_response = response = requests.get(eth_url).json()\n",
    "\n",
    "# Use the json.dumps function to review the response data from the API call\n",
    "# Use the indent and sort_keys parameters to make the response object readable\n",
    "print(json.dumps(eth_response, indent=4, sort_keys=True))\n"
   ]
  },
  {
   "cell_type": "code",
   "execution_count": 11,
   "metadata": {},
   "outputs": [
    {
     "name": "stdout",
     "output_type": "stream",
     "text": [
      "64263.0\n"
     ]
    }
   ],
   "source": [
    "# Navigate the BTC response object to access the current price of BTC\n",
    "btc_price = btc_response[\"data\"][\"1\"][\"quotes\"][\"USD\"][\"price\"]\n",
    "\n",
    "# Print the current price of BTC\n",
    "print(btc_price)\n"
   ]
  },
  {
   "cell_type": "code",
   "execution_count": 12,
   "metadata": {},
   "outputs": [
    {
     "name": "stdout",
     "output_type": "stream",
     "text": [
      "3888.11\n"
     ]
    }
   ],
   "source": [
    "# Navigate the BTC response object to access the current price of ETH\n",
    "eth_price = eth_response[\"data\"][\"1027\"][\"quotes\"][\"USD\"][\"price\"]\n",
    "\n",
    "# Print the current price of ETH\n",
    "print(eth_price)\n"
   ]
  },
  {
   "cell_type": "code",
   "execution_count": 15,
   "metadata": {},
   "outputs": [
    {
     "name": "stdout",
     "output_type": "stream",
     "text": [
      "77115.59999999999\n"
     ]
    }
   ],
   "source": [
    "# Compute the current value of the BTC holding \n",
    "btc_value = btc_coins * btc_price\n",
    "\n",
    "# Print current value of your holding in BTC\n",
    "print(btc_value)"
   ]
  },
  {
   "cell_type": "code",
   "execution_count": 14,
   "metadata": {},
   "outputs": [
    {
     "name": "stdout",
     "output_type": "stream",
     "text": [
      "20606.983\n"
     ]
    }
   ],
   "source": [
    "# Compute the current value of the ETH holding \n",
    "eth_value = eth_coins * eth_price\n",
    "\n",
    "# Print current value of your holding in ETH\n",
    "print(eth_value)\n"
   ]
  },
  {
   "cell_type": "code",
   "execution_count": 16,
   "metadata": {},
   "outputs": [
    {
     "name": "stdout",
     "output_type": "stream",
     "text": [
      "97722.58299999998\n"
     ]
    }
   ],
   "source": [
    "# Compute the total value of the cryptocurrency wallet\n",
    "# Add the value of the BTC holding to the value of the ETH holding\n",
    "total_crypto_wallet = btc_value + eth_value\n",
    "\n",
    "# Print current cryptocurrency wallet balance\n",
    "print(total_crypto_wallet)"
   ]
  },
  {
   "cell_type": "code",
   "execution_count": 20,
   "metadata": {},
   "outputs": [],
   "source": [
    "# Current amount of shares held in both the stock (SPY) and bond (AGG) portion of the portfolio.\n",
    "spy_shares = 110\n",
    "agg_shares = 200\n"
   ]
  },
  {
   "cell_type": "code",
   "execution_count": 21,
   "metadata": {},
   "outputs": [],
   "source": [
    "# Set the variables for the Alpaca API and secret keys\n",
    "alpaca_api_key = os.getenv(\"ALPACA_API_KEY\")\n",
    "alpaca_secret_key = os.getenv(\"ALPACA_SECRET_KEY\")\n",
    "\n",
    "# Create the Alpaca tradeapi.REST object\n",
    "alpaca = tradeapi.REST(\n",
    "    alpaca_api_key,\n",
    "    alpaca_secret_key,\n",
    "    api_version=\"v2\")"
   ]
  },
  {
   "cell_type": "code",
   "execution_count": 23,
   "metadata": {},
   "outputs": [],
   "source": [
    "# Set the tickers for both the bond and stock portion of the portfolio\n",
    "tickers = [\"SPY\", \"AGG\"]\n",
    "\n",
    "# Set timeframe to 1D \n",
    "timeframe = \"1D\"\n",
    "\n",
    "# Format current date as ISO format\n",
    "# Set both the start and end date at the date of your prior weekday \n",
    "# This will give you the closing price of the previous trading day\n",
    "# Alternatively you can use a start and end date of 2020-08-07\n",
    "start_date = pd.Timestamp(\"2021-10-19\", tz=\"America/New_York\").isoformat()\n",
    "end_date = pd.Timestamp(\"2021-10-19\", tz=\"America/New_York\").isoformat()\n"
   ]
  },
  {
   "cell_type": "code",
   "execution_count": 33,
   "metadata": {},
   "outputs": [
    {
     "data": {
      "text/html": [
       "<div>\n",
       "<style scoped>\n",
       "    .dataframe tbody tr th:only-of-type {\n",
       "        vertical-align: middle;\n",
       "    }\n",
       "\n",
       "    .dataframe tbody tr th {\n",
       "        vertical-align: top;\n",
       "    }\n",
       "\n",
       "    .dataframe thead tr th {\n",
       "        text-align: left;\n",
       "    }\n",
       "\n",
       "    .dataframe thead tr:last-of-type th {\n",
       "        text-align: right;\n",
       "    }\n",
       "</style>\n",
       "<table border=\"1\" class=\"dataframe\">\n",
       "  <thead>\n",
       "    <tr>\n",
       "      <th></th>\n",
       "      <th colspan=\"5\" halign=\"left\">AGG</th>\n",
       "      <th colspan=\"5\" halign=\"left\">SPY</th>\n",
       "    </tr>\n",
       "    <tr>\n",
       "      <th></th>\n",
       "      <th>open</th>\n",
       "      <th>high</th>\n",
       "      <th>low</th>\n",
       "      <th>close</th>\n",
       "      <th>volume</th>\n",
       "      <th>open</th>\n",
       "      <th>high</th>\n",
       "      <th>low</th>\n",
       "      <th>close</th>\n",
       "      <th>volume</th>\n",
       "    </tr>\n",
       "    <tr>\n",
       "      <th>time</th>\n",
       "      <th></th>\n",
       "      <th></th>\n",
       "      <th></th>\n",
       "      <th></th>\n",
       "      <th></th>\n",
       "      <th></th>\n",
       "      <th></th>\n",
       "      <th></th>\n",
       "      <th></th>\n",
       "      <th></th>\n",
       "    </tr>\n",
       "  </thead>\n",
       "  <tbody>\n",
       "    <tr>\n",
       "      <th>2021-10-19 00:00:00-04:00</th>\n",
       "      <td>114.37</td>\n",
       "      <td>114.37</td>\n",
       "      <td>114.16</td>\n",
       "      <td>114.18</td>\n",
       "      <td>3999066</td>\n",
       "      <td>448.92</td>\n",
       "      <td>450.7</td>\n",
       "      <td>448.27</td>\n",
       "      <td>450.68</td>\n",
       "      <td>40790864</td>\n",
       "    </tr>\n",
       "  </tbody>\n",
       "</table>\n",
       "</div>"
      ],
      "text/plain": [
       "                              AGG                                      SPY  \\\n",
       "                             open    high     low   close   volume    open   \n",
       "time                                                                         \n",
       "2021-10-19 00:00:00-04:00  114.37  114.37  114.16  114.18  3999066  448.92   \n",
       "\n",
       "                                                            \n",
       "                            high     low   close    volume  \n",
       "time                                                        \n",
       "2021-10-19 00:00:00-04:00  450.7  448.27  450.68  40790864  "
      ]
     },
     "execution_count": 33,
     "metadata": {},
     "output_type": "execute_result"
    }
   ],
   "source": [
    "# Use the Alpaca get_barset function to get current closing prices the portfolio\n",
    "# Be sure to set the `df` property after the function to format the response object as a DataFrame\n",
    "prices_df = alpaca.get_barset(\n",
    "    tickers,\n",
    "    timeframe,\n",
    "    start = start_date,\n",
    "    end = end_date,\n",
    "    limit=1).df\n",
    "\n",
    "# Review the first 5 rows of the Alpaca DataFrame\n",
    "prices_df.head()"
   ]
  },
  {
   "cell_type": "code",
   "execution_count": 35,
   "metadata": {},
   "outputs": [
    {
     "name": "stdout",
     "output_type": "stream",
     "text": [
      "114.18\n"
     ]
    }
   ],
   "source": [
    "# Access the closing price for AGG from the Alpaca DataFrame\n",
    "# Converting the value to a floating point number\n",
    "agg_close_price = float(prices_df[\"AGG\"][\"close\"])\n",
    "\n",
    "# Print the AGG closing price\n",
    "print(agg_close_price)\n"
   ]
  },
  {
   "cell_type": "code",
   "execution_count": 36,
   "metadata": {},
   "outputs": [
    {
     "name": "stdout",
     "output_type": "stream",
     "text": [
      "450.68\n"
     ]
    }
   ],
   "source": [
    "# Access the closing price for SPY from the Alpaca DataFrame\n",
    "# Converting the value to a floating point number\n",
    "spy_close_price = float(prices_df[\"SPY\"][\"close\"])\n",
    "\n",
    "\n",
    "# Print the SPY closing price\n",
    "print(spy_close_price)\n"
   ]
  },
  {
   "cell_type": "code",
   "execution_count": 38,
   "metadata": {},
   "outputs": [
    {
     "name": "stdout",
     "output_type": "stream",
     "text": [
      "22836.0\n"
     ]
    }
   ],
   "source": [
    "# Calculate the current value of the bond portion of the portfolio\n",
    "agg_value = agg_shares * agg_close_price\n",
    "\n",
    "# Print the current value of the bond portfolio\n",
    "print(agg_value)\n"
   ]
  },
  {
   "cell_type": "code",
   "execution_count": 40,
   "metadata": {},
   "outputs": [
    {
     "name": "stdout",
     "output_type": "stream",
     "text": [
      "49574.8\n"
     ]
    }
   ],
   "source": [
    "# Calculate the current value of the stock portion of the portfolio\n",
    "spy_value = spy_shares * spy_close_price\n",
    "\n",
    "# Print the current value of the stock portfolio\n",
    "print(spy_value)\n"
   ]
  },
  {
   "cell_type": "code",
   "execution_count": 42,
   "metadata": {},
   "outputs": [
    {
     "name": "stdout",
     "output_type": "stream",
     "text": [
      "72410.8\n"
     ]
    }
   ],
   "source": [
    "# Calculate the total value of the stock and bond portion of the portfolio\n",
    "total_stocks_bonds = agg_value + spy_value\n",
    "\n",
    "# Print the current balance of the stock and bond portion of the portfolio\n",
    "print(total_stocks_bonds)\n"
   ]
  },
  {
   "cell_type": "code",
   "execution_count": 43,
   "metadata": {},
   "outputs": [
    {
     "name": "stdout",
     "output_type": "stream",
     "text": [
      "170133.38299999997\n"
     ]
    }
   ],
   "source": [
    "# Calculate the total value of the member's entire savings portfolio\n",
    "# Add the value of the cryptocurrency walled to the value of the total stocks and bonds\n",
    "total_portfolio = total_crypto_wallet + total_stocks_bonds\n",
    "\n",
    "# Print current cryptocurrency wallet balance\n",
    "print(total_portfolio)"
   ]
  },
  {
   "cell_type": "code",
   "execution_count": 45,
   "metadata": {},
   "outputs": [
    {
     "name": "stdout",
     "output_type": "stream",
     "text": [
      "[97722.58299999998, 72410.8]\n"
     ]
    }
   ],
   "source": [
    "# Consolidate financial assets data into a Python list\n",
    "savings_data = [total_crypto_wallet, total_stocks_bonds]\n",
    "\n",
    "# Review the Python list savings_data\n",
    "print(savings_data)\n",
    "    "
   ]
  },
  {
   "cell_type": "code",
   "execution_count": 50,
   "metadata": {},
   "outputs": [
    {
     "data": {
      "text/html": [
       "<div>\n",
       "<style scoped>\n",
       "    .dataframe tbody tr th:only-of-type {\n",
       "        vertical-align: middle;\n",
       "    }\n",
       "\n",
       "    .dataframe tbody tr th {\n",
       "        vertical-align: top;\n",
       "    }\n",
       "\n",
       "    .dataframe thead th {\n",
       "        text-align: right;\n",
       "    }\n",
       "</style>\n",
       "<table border=\"1\" class=\"dataframe\">\n",
       "  <thead>\n",
       "    <tr style=\"text-align: right;\">\n",
       "      <th></th>\n",
       "      <th>amount</th>\n",
       "    </tr>\n",
       "  </thead>\n",
       "  <tbody>\n",
       "    <tr>\n",
       "      <th>crypto</th>\n",
       "      <td>97722.583</td>\n",
       "    </tr>\n",
       "    <tr>\n",
       "      <th>stock/bond</th>\n",
       "      <td>72410.800</td>\n",
       "    </tr>\n",
       "  </tbody>\n",
       "</table>\n",
       "</div>"
      ],
      "text/plain": [
       "               amount\n",
       "crypto      97722.583\n",
       "stock/bond  72410.800"
      ]
     },
     "metadata": {},
     "output_type": "display_data"
    }
   ],
   "source": [
    "# Create a Pandas DataFrame called savings_df \n",
    "savings_df = pd.DataFrame(savings_data, columns=[\"amount\"], index=[\"crypto\", \"stock/bond\"])\n",
    "\n",
    "# Display the savings_df DataFrame\n",
    "display(savings_df)"
   ]
  },
  {
   "cell_type": "code",
   "execution_count": 54,
   "metadata": {},
   "outputs": [
    {
     "data": {
      "text/plain": [
       "<AxesSubplot:ylabel='amount'>"
      ]
     },
     "execution_count": 54,
     "metadata": {},
     "output_type": "execute_result"
    },
    {
     "data": {
      "image/png": "[encoded data removed]",
      "text/plain": [
       "<Figure size 432x288 with 1 Axes>"
      ]
     },
     "metadata": {},
     "output_type": "display_data"
    }
   ],
   "source": [
    "# Plot the total value of the member's portfolio (crypto and stock/bond) in a pie chart\n",
    "savings_df.plot(kind=\"pie\", y=\"amount\")\n"
   ]
  },
  {
   "cell_type": "code",
   "execution_count": 72,
   "metadata": {},
   "outputs": [],
   "source": [
    "# Create a variable named emergency_fund_value\n",
    "emergency_fund_value = monthly_income * 3\n"
   ]
  },
  {
   "cell_type": "code",
   "execution_count": 73,
   "metadata": {},
   "outputs": [
    {
     "name": "stdout",
     "output_type": "stream",
     "text": [
      "Congratulations! Your total portfolio is enough of an emergency fund to cover more than three months of your income.\n"
     ]
    }
   ],
   "source": [
    "# Evaluate the possibility of creating an emergency fund with 3 conditions:\n",
    "if total_portfolio > emergency_fund_value:\n",
    "    print(\"Congratulations! Your total portfolio is enough of an emergency fund to cover more than three months of your income.\")\n",
    "elif total_portfolio == emergency_fund_value:\n",
    "    print(\"Your total portfolio is equal to three months of your income. Congratulations on reaching this important financial goal!\")\n",
    "else:\n",
    "    amount_emergency_fund_short = \"${:.2f}\".format(round(emergency_fund_value - total_portfolio, 2))\n",
    "    print(f\"Your total portfolio is less than three months of income. To reach this goal of having enough money for an emergency fund, you need \" + amount_emergency_fund_short)"
   ]
  },
  {
   "cell_type": "markdown",
   "metadata": {},
   "source": [
    "## Part 2: Create a Financial Planner for Retirement"
   ]
  },
  {
   "cell_type": "markdown",
   "metadata": {},
   "source": [
    "### Create the Monte Carlo Simulation\n",
    "\n",
    "In this section, you’ll use the MCForecastTools library to create a Monte Carlo simulation for the member’s savings portfolio. To do this, complete the following steps:\n",
    "\n",
    "1. Make an API call via the Alpaca SDK to get 3 years of historical closing prices for a traditional 60/40 portfolio split: 60% stocks (SPY) and 40% bonds (AGG).\n",
    "\n",
    "2. Run a Monte Carlo simulation of 500 samples and 30 years for the 60/40 portfolio, and then plot the results.The following image shows the overlay line plot resulting from a simulation with these characteristics. However, because a random number generator is used to run each live Monte Carlo simulation, your image will differ slightly from this exact image:\n",
    "\n",
    "![A screenshot depicts the resulting plot.](Images/5-4-monte-carlo-line-plot.png)\n",
    "\n",
    "3. Plot the probability distribution of the Monte Carlo simulation. Plot the probability distribution of the Monte Carlo simulation. The following image shows the histogram plot resulting from a simulation with these characteristics. However, because a random number generator is used to run each live Monte Carlo simulation, your image will differ slightly from this exact image:\n",
    "\n",
    "![A screenshot depicts the histogram plot.](Images/5-4-monte-carlo-histogram.png)\n",
    "\n",
    "4. Generate the summary statistics for the Monte Carlo simulation.\n",
    "\n"
   ]
  },
  {
   "cell_type": "markdown",
   "metadata": {},
   "source": [
    "#### Step 1: Make an API call via the Alpaca SDK to get 3 years of historical closing prices for a traditional 60/40 portfolio split: 60% stocks (SPY) and 40% bonds (AGG)."
   ]
  },
  {
   "cell_type": "code",
   "execution_count": 76,
   "metadata": {},
   "outputs": [],
   "source": [
    "# Set start and end dates of 3 years back from your current date\n",
    "# Alternatively, you can use an end date of 2020-08-07 and work 3 years back from that date \n",
    "start_date = pd.Timestamp(\"2018-10-19\", tz=\"America/New_York\").isoformat()\n",
    "end_date = pd.Timestamp(\"2021-10-19\", tz=\"America/New_York\").isoformat()\n",
    "\n",
    "# Set number of rows to 1000 to retrieve the maximum amount of rows\n",
    "limit_rows = 1000"
   ]
  },
  {
   "cell_type": "code",
   "execution_count": 78,
   "metadata": {},
   "outputs": [
    {
     "data": {
      "text/html": [
       "<div>\n",
       "<style scoped>\n",
       "    .dataframe tbody tr th:only-of-type {\n",
       "        vertical-align: middle;\n",
       "    }\n",
       "\n",
       "    .dataframe tbody tr th {\n",
       "        vertical-align: top;\n",
       "    }\n",
       "\n",
       "    .dataframe thead tr th {\n",
       "        text-align: left;\n",
       "    }\n",
       "\n",
       "    .dataframe thead tr:last-of-type th {\n",
       "        text-align: right;\n",
       "    }\n",
       "</style>\n",
       "<table border=\"1\" class=\"dataframe\">\n",
       "  <thead>\n",
       "    <tr>\n",
       "      <th></th>\n",
       "      <th colspan=\"5\" halign=\"left\">AGG</th>\n",
       "      <th colspan=\"5\" halign=\"left\">SPY</th>\n",
       "    </tr>\n",
       "    <tr>\n",
       "      <th></th>\n",
       "      <th>open</th>\n",
       "      <th>high</th>\n",
       "      <th>low</th>\n",
       "      <th>close</th>\n",
       "      <th>volume</th>\n",
       "      <th>open</th>\n",
       "      <th>high</th>\n",
       "      <th>low</th>\n",
       "      <th>close</th>\n",
       "      <th>volume</th>\n",
       "    </tr>\n",
       "    <tr>\n",
       "      <th>time</th>\n",
       "      <th></th>\n",
       "      <th></th>\n",
       "      <th></th>\n",
       "      <th></th>\n",
       "      <th></th>\n",
       "      <th></th>\n",
       "      <th></th>\n",
       "      <th></th>\n",
       "      <th></th>\n",
       "      <th></th>\n",
       "    </tr>\n",
       "  </thead>\n",
       "  <tbody>\n",
       "    <tr>\n",
       "      <th>2018-10-19 00:00:00-04:00</th>\n",
       "      <td>104.47</td>\n",
       "      <td>104.55</td>\n",
       "      <td>104.340</td>\n",
       "      <td>104.370</td>\n",
       "      <td>2912850.0</td>\n",
       "      <td>277.12</td>\n",
       "      <td>279.30</td>\n",
       "      <td>275.47</td>\n",
       "      <td>276.19</td>\n",
       "      <td>86816021</td>\n",
       "    </tr>\n",
       "    <tr>\n",
       "      <th>2018-10-22 00:00:00-04:00</th>\n",
       "      <td>104.47</td>\n",
       "      <td>104.52</td>\n",
       "      <td>104.340</td>\n",
       "      <td>104.350</td>\n",
       "      <td>2634319.0</td>\n",
       "      <td>277.00</td>\n",
       "      <td>277.36</td>\n",
       "      <td>274.41</td>\n",
       "      <td>275.06</td>\n",
       "      <td>64990700</td>\n",
       "    </tr>\n",
       "    <tr>\n",
       "      <th>2018-10-23 00:00:00-04:00</th>\n",
       "      <td>104.67</td>\n",
       "      <td>104.74</td>\n",
       "      <td>104.475</td>\n",
       "      <td>104.485</td>\n",
       "      <td>3281760.0</td>\n",
       "      <td>270.94</td>\n",
       "      <td>274.87</td>\n",
       "      <td>268.61</td>\n",
       "      <td>273.54</td>\n",
       "      <td>113790534</td>\n",
       "    </tr>\n",
       "    <tr>\n",
       "      <th>2018-10-24 00:00:00-04:00</th>\n",
       "      <td>104.69</td>\n",
       "      <td>104.81</td>\n",
       "      <td>104.670</td>\n",
       "      <td>104.760</td>\n",
       "      <td>4029453.0</td>\n",
       "      <td>273.33</td>\n",
       "      <td>273.76</td>\n",
       "      <td>264.70</td>\n",
       "      <td>265.22</td>\n",
       "      <td>130172487</td>\n",
       "    </tr>\n",
       "    <tr>\n",
       "      <th>2018-10-25 00:00:00-04:00</th>\n",
       "      <td>104.71</td>\n",
       "      <td>104.77</td>\n",
       "      <td>104.610</td>\n",
       "      <td>104.665</td>\n",
       "      <td>3882207.0</td>\n",
       "      <td>267.37</td>\n",
       "      <td>271.81</td>\n",
       "      <td>266.23</td>\n",
       "      <td>270.14</td>\n",
       "      <td>97215770</td>\n",
       "    </tr>\n",
       "  </tbody>\n",
       "</table>\n",
       "</div>"
      ],
      "text/plain": [
       "                              AGG                                       \\\n",
       "                             open    high      low    close     volume   \n",
       "time                                                                     \n",
       "2018-10-19 00:00:00-04:00  104.47  104.55  104.340  104.370  2912850.0   \n",
       "2018-10-22 00:00:00-04:00  104.47  104.52  104.340  104.350  2634319.0   \n",
       "2018-10-23 00:00:00-04:00  104.67  104.74  104.475  104.485  3281760.0   \n",
       "2018-10-24 00:00:00-04:00  104.69  104.81  104.670  104.760  4029453.0   \n",
       "2018-10-25 00:00:00-04:00  104.71  104.77  104.610  104.665  3882207.0   \n",
       "\n",
       "                              SPY                                     \n",
       "                             open    high     low   close     volume  \n",
       "time                                                                  \n",
       "2018-10-19 00:00:00-04:00  277.12  279.30  275.47  276.19   86816021  \n",
       "2018-10-22 00:00:00-04:00  277.00  277.36  274.41  275.06   64990700  \n",
       "2018-10-23 00:00:00-04:00  270.94  274.87  268.61  273.54  113790534  \n",
       "2018-10-24 00:00:00-04:00  273.33  273.76  264.70  265.22  130172487  \n",
       "2018-10-25 00:00:00-04:00  267.37  271.81  266.23  270.14   97215770  "
      ]
     },
     "metadata": {},
     "output_type": "display_data"
    },
    {
     "data": {
      "text/html": [
       "<div>\n",
       "<style scoped>\n",
       "    .dataframe tbody tr th:only-of-type {\n",
       "        vertical-align: middle;\n",
       "    }\n",
       "\n",
       "    .dataframe tbody tr th {\n",
       "        vertical-align: top;\n",
       "    }\n",
       "\n",
       "    .dataframe thead tr th {\n",
       "        text-align: left;\n",
       "    }\n",
       "\n",
       "    .dataframe thead tr:last-of-type th {\n",
       "        text-align: right;\n",
       "    }\n",
       "</style>\n",
       "<table border=\"1\" class=\"dataframe\">\n",
       "  <thead>\n",
       "    <tr>\n",
       "      <th></th>\n",
       "      <th colspan=\"5\" halign=\"left\">AGG</th>\n",
       "      <th colspan=\"5\" halign=\"left\">SPY</th>\n",
       "    </tr>\n",
       "    <tr>\n",
       "      <th></th>\n",
       "      <th>open</th>\n",
       "      <th>high</th>\n",
       "      <th>low</th>\n",
       "      <th>close</th>\n",
       "      <th>volume</th>\n",
       "      <th>open</th>\n",
       "      <th>high</th>\n",
       "      <th>low</th>\n",
       "      <th>close</th>\n",
       "      <th>volume</th>\n",
       "    </tr>\n",
       "    <tr>\n",
       "      <th>time</th>\n",
       "      <th></th>\n",
       "      <th></th>\n",
       "      <th></th>\n",
       "      <th></th>\n",
       "      <th></th>\n",
       "      <th></th>\n",
       "      <th></th>\n",
       "      <th></th>\n",
       "      <th></th>\n",
       "      <th></th>\n",
       "    </tr>\n",
       "  </thead>\n",
       "  <tbody>\n",
       "    <tr>\n",
       "      <th>2021-10-13 00:00:00-04:00</th>\n",
       "      <td>114.43</td>\n",
       "      <td>114.6400</td>\n",
       "      <td>114.415</td>\n",
       "      <td>114.61</td>\n",
       "      <td>5301180.0</td>\n",
       "      <td>434.71</td>\n",
       "      <td>436.05</td>\n",
       "      <td>431.54</td>\n",
       "      <td>435.13</td>\n",
       "      <td>63943229</td>\n",
       "    </tr>\n",
       "    <tr>\n",
       "      <th>2021-10-14 00:00:00-04:00</th>\n",
       "      <td>114.70</td>\n",
       "      <td>114.8496</td>\n",
       "      <td>114.630</td>\n",
       "      <td>114.84</td>\n",
       "      <td>3540673.0</td>\n",
       "      <td>439.08</td>\n",
       "      <td>442.66</td>\n",
       "      <td>438.58</td>\n",
       "      <td>442.47</td>\n",
       "      <td>59812568</td>\n",
       "    </tr>\n",
       "    <tr>\n",
       "      <th>2021-10-15 00:00:00-04:00</th>\n",
       "      <td>114.61</td>\n",
       "      <td>114.6300</td>\n",
       "      <td>114.510</td>\n",
       "      <td>114.56</td>\n",
       "      <td>3829388.0</td>\n",
       "      <td>444.76</td>\n",
       "      <td>446.26</td>\n",
       "      <td>444.09</td>\n",
       "      <td>445.83</td>\n",
       "      <td>55980388</td>\n",
       "    </tr>\n",
       "    <tr>\n",
       "      <th>2021-10-18 00:00:00-04:00</th>\n",
       "      <td>114.33</td>\n",
       "      <td>114.5600</td>\n",
       "      <td>114.250</td>\n",
       "      <td>114.49</td>\n",
       "      <td>5145953.0</td>\n",
       "      <td>443.97</td>\n",
       "      <td>447.55</td>\n",
       "      <td>443.27</td>\n",
       "      <td>447.22</td>\n",
       "      <td>51994387</td>\n",
       "    </tr>\n",
       "    <tr>\n",
       "      <th>2021-10-19 00:00:00-04:00</th>\n",
       "      <td>114.37</td>\n",
       "      <td>114.3700</td>\n",
       "      <td>114.160</td>\n",
       "      <td>114.18</td>\n",
       "      <td>3999066.0</td>\n",
       "      <td>448.92</td>\n",
       "      <td>450.70</td>\n",
       "      <td>448.27</td>\n",
       "      <td>450.68</td>\n",
       "      <td>40790864</td>\n",
       "    </tr>\n",
       "  </tbody>\n",
       "</table>\n",
       "</div>"
      ],
      "text/plain": [
       "                              AGG                                        \\\n",
       "                             open      high      low   close     volume   \n",
       "time                                                                      \n",
       "2021-10-13 00:00:00-04:00  114.43  114.6400  114.415  114.61  5301180.0   \n",
       "2021-10-14 00:00:00-04:00  114.70  114.8496  114.630  114.84  3540673.0   \n",
       "2021-10-15 00:00:00-04:00  114.61  114.6300  114.510  114.56  3829388.0   \n",
       "2021-10-18 00:00:00-04:00  114.33  114.5600  114.250  114.49  5145953.0   \n",
       "2021-10-19 00:00:00-04:00  114.37  114.3700  114.160  114.18  3999066.0   \n",
       "\n",
       "                              SPY                                    \n",
       "                             open    high     low   close    volume  \n",
       "time                                                                 \n",
       "2021-10-13 00:00:00-04:00  434.71  436.05  431.54  435.13  63943229  \n",
       "2021-10-14 00:00:00-04:00  439.08  442.66  438.58  442.47  59812568  \n",
       "2021-10-15 00:00:00-04:00  444.76  446.26  444.09  445.83  55980388  \n",
       "2021-10-18 00:00:00-04:00  443.97  447.55  443.27  447.22  51994387  \n",
       "2021-10-19 00:00:00-04:00  448.92  450.70  448.27  450.68  40790864  "
      ]
     },
     "metadata": {},
     "output_type": "display_data"
    }
   ],
   "source": [
    "# Use the Alpaca get_barset function to make the API call to get the 3 years worth of pricing data\n",
    "# The tickers and timeframe parameters should have been set in Part 1 of this activity \n",
    "# The start and end dates should be updated with the information set above\n",
    "# Remember to add the df property to the end of the call so the response is returned as a DataFrame\n",
    "prices_three_year_df = alpaca.get_barset(\n",
    "    tickers,\n",
    "    timeframe,\n",
    "    start = start_date,\n",
    "    end = end_date,\n",
    "    limit = limit_rows).df\n",
    "\n",
    "\n",
    "# Display both the first and last five rows of the DataFrame\n",
    "display(prices_three_year_df.head())\n",
    "display(prices_three_year_df.tail())"
   ]
  },
  {
   "cell_type": "markdown",
   "metadata": {},
   "source": [
    "#### Step 2: Run a Monte Carlo simulation of 500 samples and 30 years for the 60/40 portfolio, and then plot the results."
   ]
  },
  {
   "cell_type": "code",
   "execution_count": 79,
   "metadata": {},
   "outputs": [
    {
     "data": {
      "text/html": [
       "<div>\n",
       "<style scoped>\n",
       "    .dataframe tbody tr th:only-of-type {\n",
       "        vertical-align: middle;\n",
       "    }\n",
       "\n",
       "    .dataframe tbody tr th {\n",
       "        vertical-align: top;\n",
       "    }\n",
       "\n",
       "    .dataframe thead tr th {\n",
       "        text-align: left;\n",
       "    }\n",
       "\n",
       "    .dataframe thead tr:last-of-type th {\n",
       "        text-align: right;\n",
       "    }\n",
       "</style>\n",
       "<table border=\"1\" class=\"dataframe\">\n",
       "  <thead>\n",
       "    <tr>\n",
       "      <th></th>\n",
       "      <th colspan=\"6\" halign=\"left\">AGG</th>\n",
       "      <th colspan=\"6\" halign=\"left\">SPY</th>\n",
       "    </tr>\n",
       "    <tr>\n",
       "      <th></th>\n",
       "      <th>open</th>\n",
       "      <th>high</th>\n",
       "      <th>low</th>\n",
       "      <th>close</th>\n",
       "      <th>volume</th>\n",
       "      <th>daily_return</th>\n",
       "      <th>open</th>\n",
       "      <th>high</th>\n",
       "      <th>low</th>\n",
       "      <th>close</th>\n",
       "      <th>volume</th>\n",
       "      <th>daily_return</th>\n",
       "    </tr>\n",
       "    <tr>\n",
       "      <th>time</th>\n",
       "      <th></th>\n",
       "      <th></th>\n",
       "      <th></th>\n",
       "      <th></th>\n",
       "      <th></th>\n",
       "      <th></th>\n",
       "      <th></th>\n",
       "      <th></th>\n",
       "      <th></th>\n",
       "      <th></th>\n",
       "      <th></th>\n",
       "      <th></th>\n",
       "    </tr>\n",
       "  </thead>\n",
       "  <tbody>\n",
       "    <tr>\n",
       "      <th>2018-10-19 00:00:00-04:00</th>\n",
       "      <td>104.47</td>\n",
       "      <td>104.55</td>\n",
       "      <td>104.340</td>\n",
       "      <td>104.370</td>\n",
       "      <td>2912850.0</td>\n",
       "      <td>NaN</td>\n",
       "      <td>277.12</td>\n",
       "      <td>279.30</td>\n",
       "      <td>275.47</td>\n",
       "      <td>276.19</td>\n",
       "      <td>86816021</td>\n",
       "      <td>NaN</td>\n",
       "    </tr>\n",
       "    <tr>\n",
       "      <th>2018-10-22 00:00:00-04:00</th>\n",
       "      <td>104.47</td>\n",
       "      <td>104.52</td>\n",
       "      <td>104.340</td>\n",
       "      <td>104.350</td>\n",
       "      <td>2634319.0</td>\n",
       "      <td>-0.000192</td>\n",
       "      <td>277.00</td>\n",
       "      <td>277.36</td>\n",
       "      <td>274.41</td>\n",
       "      <td>275.06</td>\n",
       "      <td>64990700</td>\n",
       "      <td>-0.004091</td>\n",
       "    </tr>\n",
       "    <tr>\n",
       "      <th>2018-10-23 00:00:00-04:00</th>\n",
       "      <td>104.67</td>\n",
       "      <td>104.74</td>\n",
       "      <td>104.475</td>\n",
       "      <td>104.485</td>\n",
       "      <td>3281760.0</td>\n",
       "      <td>0.001294</td>\n",
       "      <td>270.94</td>\n",
       "      <td>274.87</td>\n",
       "      <td>268.61</td>\n",
       "      <td>273.54</td>\n",
       "      <td>113790534</td>\n",
       "      <td>-0.005526</td>\n",
       "    </tr>\n",
       "    <tr>\n",
       "      <th>2018-10-24 00:00:00-04:00</th>\n",
       "      <td>104.69</td>\n",
       "      <td>104.81</td>\n",
       "      <td>104.670</td>\n",
       "      <td>104.760</td>\n",
       "      <td>4029453.0</td>\n",
       "      <td>0.002632</td>\n",
       "      <td>273.33</td>\n",
       "      <td>273.76</td>\n",
       "      <td>264.70</td>\n",
       "      <td>265.22</td>\n",
       "      <td>130172487</td>\n",
       "      <td>-0.030416</td>\n",
       "    </tr>\n",
       "    <tr>\n",
       "      <th>2018-10-25 00:00:00-04:00</th>\n",
       "      <td>104.71</td>\n",
       "      <td>104.77</td>\n",
       "      <td>104.610</td>\n",
       "      <td>104.665</td>\n",
       "      <td>3882207.0</td>\n",
       "      <td>-0.000907</td>\n",
       "      <td>267.37</td>\n",
       "      <td>271.81</td>\n",
       "      <td>266.23</td>\n",
       "      <td>270.14</td>\n",
       "      <td>97215770</td>\n",
       "      <td>0.018551</td>\n",
       "    </tr>\n",
       "  </tbody>\n",
       "</table>\n",
       "</div>"
      ],
      "text/plain": [
       "                              AGG                                       \\\n",
       "                             open    high      low    close     volume   \n",
       "time                                                                     \n",
       "2018-10-19 00:00:00-04:00  104.47  104.55  104.340  104.370  2912850.0   \n",
       "2018-10-22 00:00:00-04:00  104.47  104.52  104.340  104.350  2634319.0   \n",
       "2018-10-23 00:00:00-04:00  104.67  104.74  104.475  104.485  3281760.0   \n",
       "2018-10-24 00:00:00-04:00  104.69  104.81  104.670  104.760  4029453.0   \n",
       "2018-10-25 00:00:00-04:00  104.71  104.77  104.610  104.665  3882207.0   \n",
       "\n",
       "                                           SPY                          \\\n",
       "                          daily_return    open    high     low   close   \n",
       "time                                                                     \n",
       "2018-10-19 00:00:00-04:00          NaN  277.12  279.30  275.47  276.19   \n",
       "2018-10-22 00:00:00-04:00    -0.000192  277.00  277.36  274.41  275.06   \n",
       "2018-10-23 00:00:00-04:00     0.001294  270.94  274.87  268.61  273.54   \n",
       "2018-10-24 00:00:00-04:00     0.002632  273.33  273.76  264.70  265.22   \n",
       "2018-10-25 00:00:00-04:00    -0.000907  267.37  271.81  266.23  270.14   \n",
       "\n",
       "                                                   \n",
       "                              volume daily_return  \n",
       "time                                               \n",
       "2018-10-19 00:00:00-04:00   86816021          NaN  \n",
       "2018-10-22 00:00:00-04:00   64990700    -0.004091  \n",
       "2018-10-23 00:00:00-04:00  113790534    -0.005526  \n",
       "2018-10-24 00:00:00-04:00  130172487    -0.030416  \n",
       "2018-10-25 00:00:00-04:00   97215770     0.018551  "
      ]
     },
     "execution_count": 79,
     "metadata": {},
     "output_type": "execute_result"
    }
   ],
   "source": [
    "# Configure the Monte Carlo simulation to forecast 30 years cumulative returns\n",
    "# The weights should be split 40% to AGG and 60% to SPY.\n",
    "# Run 500 samples.\n",
    "MC_thirtyyear_6040 = MCSimulation(\n",
    "    portfolio_data  = prices_three_year_df,\n",
    "    weights = [.4, .6],\n",
    "    num_simulation = 500,\n",
    "    num_trading_days = 252 * 30)\n",
    "\n",
    "# Review the simulation input data\n",
    "MC_thirtyyear_6040.portfolio_data.head()\n"
   ]
  },
  {
   "cell_type": "code",
   "execution_count": 80,
   "metadata": {},
   "outputs": [
    {
     "name": "stdout",
     "output_type": "stream",
     "text": [
      "Running Monte Carlo simulation number 0.\n",
      "Running Monte Carlo simulation number 10.\n",
      "Running Monte Carlo simulation number 20.\n",
      "Running Monte Carlo simulation number 30.\n",
      "Running Monte Carlo simulation number 40.\n",
      "Running Monte Carlo simulation number 50.\n",
      "Running Monte Carlo simulation number 60.\n",
      "Running Monte Carlo simulation number 70.\n",
      "Running Monte Carlo simulation number 80.\n",
      "Running Monte Carlo simulation number 90.\n",
      "Running Monte Carlo simulation number 100.\n",
      "Running Monte Carlo simulation number 110.\n",
      "Running Monte Carlo simulation number 120.\n",
      "Running Monte Carlo simulation number 130.\n",
      "Running Monte Carlo simulation number 140.\n",
      "Running Monte Carlo simulation number 150.\n",
      "Running Monte Carlo simulation number 160.\n",
      "Running Monte Carlo simulation number 170.\n",
      "Running Monte Carlo simulation number 180.\n",
      "Running Monte Carlo simulation number 190.\n",
      "Running Monte Carlo simulation number 200.\n",
      "Running Monte Carlo simulation number 210.\n",
      "Running Monte Carlo simulation number 220.\n",
      "Running Monte Carlo simulation number 230.\n",
      "Running Monte Carlo simulation number 240.\n",
      "Running Monte Carlo simulation number 250.\n",
      "Running Monte Carlo simulation number 260.\n",
      "Running Monte Carlo simulation number 270.\n",
      "Running Monte Carlo simulation number 280.\n",
      "Running Monte Carlo simulation number 290.\n",
      "Running Monte Carlo simulation number 300.\n",
      "Running Monte Carlo simulation number 310.\n",
      "Running Monte Carlo simulation number 320.\n",
      "Running Monte Carlo simulation number 330.\n",
      "Running Monte Carlo simulation number 340.\n",
      "Running Monte Carlo simulation number 350.\n",
      "Running Monte Carlo simulation number 360.\n",
      "Running Monte Carlo simulation number 370.\n",
      "Running Monte Carlo simulation number 380.\n",
      "Running Monte Carlo simulation number 390.\n",
      "Running Monte Carlo simulation number 400.\n",
      "Running Monte Carlo simulation number 410.\n",
      "Running Monte Carlo simulation number 420.\n",
      "Running Monte Carlo simulation number 430.\n",
      "Running Monte Carlo simulation number 440.\n",
      "Running Monte Carlo simulation number 450.\n",
      "Running Monte Carlo simulation number 460.\n",
      "Running Monte Carlo simulation number 470.\n",
      "Running Monte Carlo simulation number 480.\n",
      "Running Monte Carlo simulation number 490.\n"
     ]
    },
    {
     "data": {
      "text/html": [
       "<div>\n",
       "<style scoped>\n",
       "    .dataframe tbody tr th:only-of-type {\n",
       "        vertical-align: middle;\n",
       "    }\n",
       "\n",
       "    .dataframe tbody tr th {\n",
       "        vertical-align: top;\n",
       "    }\n",
       "\n",
       "    .dataframe thead th {\n",
       "        text-align: right;\n",
       "    }\n",
       "</style>\n",
       "<table border=\"1\" class=\"dataframe\">\n",
       "  <thead>\n",
       "    <tr style=\"text-align: right;\">\n",
       "      <th></th>\n",
       "      <th>0</th>\n",
       "      <th>1</th>\n",
       "      <th>2</th>\n",
       "      <th>3</th>\n",
       "      <th>4</th>\n",
       "      <th>5</th>\n",
       "      <th>6</th>\n",
       "      <th>7</th>\n",
       "      <th>8</th>\n",
       "      <th>9</th>\n",
       "      <th>...</th>\n",
       "      <th>490</th>\n",
       "      <th>491</th>\n",
       "      <th>492</th>\n",
       "      <th>493</th>\n",
       "      <th>494</th>\n",
       "      <th>495</th>\n",
       "      <th>496</th>\n",
       "      <th>497</th>\n",
       "      <th>498</th>\n",
       "      <th>499</th>\n",
       "    </tr>\n",
       "  </thead>\n",
       "  <tbody>\n",
       "    <tr>\n",
       "      <th>0</th>\n",
       "      <td>1.000000</td>\n",
       "      <td>1.000000</td>\n",
       "      <td>1.000000</td>\n",
       "      <td>1.000000</td>\n",
       "      <td>1.000000</td>\n",
       "      <td>1.000000</td>\n",
       "      <td>1.000000</td>\n",
       "      <td>1.000000</td>\n",
       "      <td>1.000000</td>\n",
       "      <td>1.000000</td>\n",
       "      <td>...</td>\n",
       "      <td>1.000000</td>\n",
       "      <td>1.000000</td>\n",
       "      <td>1.000000</td>\n",
       "      <td>1.000000</td>\n",
       "      <td>1.000000</td>\n",
       "      <td>1.000000</td>\n",
       "      <td>1.000000</td>\n",
       "      <td>1.000000</td>\n",
       "      <td>1.000000</td>\n",
       "      <td>1.000000</td>\n",
       "    </tr>\n",
       "    <tr>\n",
       "      <th>1</th>\n",
       "      <td>1.000926</td>\n",
       "      <td>1.012972</td>\n",
       "      <td>1.019805</td>\n",
       "      <td>1.001141</td>\n",
       "      <td>1.007738</td>\n",
       "      <td>1.005279</td>\n",
       "      <td>1.009653</td>\n",
       "      <td>0.996460</td>\n",
       "      <td>1.010431</td>\n",
       "      <td>0.994897</td>\n",
       "      <td>...</td>\n",
       "      <td>1.000200</td>\n",
       "      <td>1.001681</td>\n",
       "      <td>1.001335</td>\n",
       "      <td>1.006670</td>\n",
       "      <td>0.999726</td>\n",
       "      <td>0.987837</td>\n",
       "      <td>1.012181</td>\n",
       "      <td>1.002639</td>\n",
       "      <td>1.014398</td>\n",
       "      <td>0.996010</td>\n",
       "    </tr>\n",
       "    <tr>\n",
       "      <th>2</th>\n",
       "      <td>1.003038</td>\n",
       "      <td>1.014897</td>\n",
       "      <td>1.021643</td>\n",
       "      <td>1.010635</td>\n",
       "      <td>1.009506</td>\n",
       "      <td>1.019896</td>\n",
       "      <td>1.009723</td>\n",
       "      <td>1.005831</td>\n",
       "      <td>0.999333</td>\n",
       "      <td>0.990565</td>\n",
       "      <td>...</td>\n",
       "      <td>1.011991</td>\n",
       "      <td>0.998214</td>\n",
       "      <td>0.997879</td>\n",
       "      <td>1.022285</td>\n",
       "      <td>1.001034</td>\n",
       "      <td>0.998123</td>\n",
       "      <td>1.019739</td>\n",
       "      <td>1.016027</td>\n",
       "      <td>1.009293</td>\n",
       "      <td>0.988719</td>\n",
       "    </tr>\n",
       "    <tr>\n",
       "      <th>3</th>\n",
       "      <td>1.003563</td>\n",
       "      <td>1.008421</td>\n",
       "      <td>1.026839</td>\n",
       "      <td>0.998817</td>\n",
       "      <td>1.000206</td>\n",
       "      <td>1.016963</td>\n",
       "      <td>1.019753</td>\n",
       "      <td>1.012114</td>\n",
       "      <td>1.002148</td>\n",
       "      <td>0.994840</td>\n",
       "      <td>...</td>\n",
       "      <td>1.020208</td>\n",
       "      <td>0.997273</td>\n",
       "      <td>0.994567</td>\n",
       "      <td>1.001099</td>\n",
       "      <td>1.001009</td>\n",
       "      <td>1.003357</td>\n",
       "      <td>1.009746</td>\n",
       "      <td>0.996269</td>\n",
       "      <td>1.012551</td>\n",
       "      <td>0.997948</td>\n",
       "    </tr>\n",
       "    <tr>\n",
       "      <th>4</th>\n",
       "      <td>0.987016</td>\n",
       "      <td>0.994856</td>\n",
       "      <td>1.026691</td>\n",
       "      <td>0.998977</td>\n",
       "      <td>0.993373</td>\n",
       "      <td>1.020005</td>\n",
       "      <td>1.033328</td>\n",
       "      <td>1.009669</td>\n",
       "      <td>0.991218</td>\n",
       "      <td>0.986754</td>\n",
       "      <td>...</td>\n",
       "      <td>1.029205</td>\n",
       "      <td>0.996940</td>\n",
       "      <td>0.988049</td>\n",
       "      <td>0.991236</td>\n",
       "      <td>0.990973</td>\n",
       "      <td>0.994863</td>\n",
       "      <td>1.005706</td>\n",
       "      <td>1.000453</td>\n",
       "      <td>1.005717</td>\n",
       "      <td>1.008368</td>\n",
       "    </tr>\n",
       "    <tr>\n",
       "      <th>...</th>\n",
       "      <td>...</td>\n",
       "      <td>...</td>\n",
       "      <td>...</td>\n",
       "      <td>...</td>\n",
       "      <td>...</td>\n",
       "      <td>...</td>\n",
       "      <td>...</td>\n",
       "      <td>...</td>\n",
       "      <td>...</td>\n",
       "      <td>...</td>\n",
       "      <td>...</td>\n",
       "      <td>...</td>\n",
       "      <td>...</td>\n",
       "      <td>...</td>\n",
       "      <td>...</td>\n",
       "      <td>...</td>\n",
       "      <td>...</td>\n",
       "      <td>...</td>\n",
       "      <td>...</td>\n",
       "      <td>...</td>\n",
       "      <td>...</td>\n",
       "    </tr>\n",
       "    <tr>\n",
       "      <th>7556</th>\n",
       "      <td>23.039197</td>\n",
       "      <td>93.818561</td>\n",
       "      <td>20.741315</td>\n",
       "      <td>36.231106</td>\n",
       "      <td>32.414815</td>\n",
       "      <td>23.477601</td>\n",
       "      <td>58.542275</td>\n",
       "      <td>35.017298</td>\n",
       "      <td>27.870039</td>\n",
       "      <td>18.915216</td>\n",
       "      <td>...</td>\n",
       "      <td>17.306696</td>\n",
       "      <td>17.397196</td>\n",
       "      <td>18.445521</td>\n",
       "      <td>27.493104</td>\n",
       "      <td>12.853870</td>\n",
       "      <td>73.284178</td>\n",
       "      <td>28.566413</td>\n",
       "      <td>19.441114</td>\n",
       "      <td>12.024532</td>\n",
       "      <td>42.270139</td>\n",
       "    </tr>\n",
       "    <tr>\n",
       "      <th>7557</th>\n",
       "      <td>23.159017</td>\n",
       "      <td>92.047130</td>\n",
       "      <td>20.906643</td>\n",
       "      <td>36.174546</td>\n",
       "      <td>32.080347</td>\n",
       "      <td>23.559590</td>\n",
       "      <td>57.745802</td>\n",
       "      <td>35.497762</td>\n",
       "      <td>27.888477</td>\n",
       "      <td>19.016344</td>\n",
       "      <td>...</td>\n",
       "      <td>17.258503</td>\n",
       "      <td>17.239608</td>\n",
       "      <td>18.306005</td>\n",
       "      <td>27.242804</td>\n",
       "      <td>12.829684</td>\n",
       "      <td>73.450928</td>\n",
       "      <td>28.648515</td>\n",
       "      <td>19.294218</td>\n",
       "      <td>11.897336</td>\n",
       "      <td>41.661513</td>\n",
       "    </tr>\n",
       "    <tr>\n",
       "      <th>7558</th>\n",
       "      <td>22.908850</td>\n",
       "      <td>92.421186</td>\n",
       "      <td>20.935257</td>\n",
       "      <td>35.669168</td>\n",
       "      <td>31.523859</td>\n",
       "      <td>23.452299</td>\n",
       "      <td>57.785482</td>\n",
       "      <td>35.565568</td>\n",
       "      <td>27.681552</td>\n",
       "      <td>19.347869</td>\n",
       "      <td>...</td>\n",
       "      <td>17.386631</td>\n",
       "      <td>17.419197</td>\n",
       "      <td>18.182379</td>\n",
       "      <td>27.491410</td>\n",
       "      <td>12.769929</td>\n",
       "      <td>73.023724</td>\n",
       "      <td>28.198764</td>\n",
       "      <td>19.538602</td>\n",
       "      <td>11.990420</td>\n",
       "      <td>41.137999</td>\n",
       "    </tr>\n",
       "    <tr>\n",
       "      <th>7559</th>\n",
       "      <td>22.989378</td>\n",
       "      <td>91.708768</td>\n",
       "      <td>20.806974</td>\n",
       "      <td>36.255591</td>\n",
       "      <td>31.880509</td>\n",
       "      <td>23.474210</td>\n",
       "      <td>57.657968</td>\n",
       "      <td>36.027266</td>\n",
       "      <td>27.639103</td>\n",
       "      <td>19.272438</td>\n",
       "      <td>...</td>\n",
       "      <td>17.365421</td>\n",
       "      <td>17.382350</td>\n",
       "      <td>18.392275</td>\n",
       "      <td>27.147042</td>\n",
       "      <td>13.011635</td>\n",
       "      <td>72.742897</td>\n",
       "      <td>28.374881</td>\n",
       "      <td>19.554715</td>\n",
       "      <td>11.910022</td>\n",
       "      <td>41.510044</td>\n",
       "    </tr>\n",
       "    <tr>\n",
       "      <th>7560</th>\n",
       "      <td>23.147002</td>\n",
       "      <td>92.209420</td>\n",
       "      <td>21.416551</td>\n",
       "      <td>36.329175</td>\n",
       "      <td>31.685612</td>\n",
       "      <td>23.570782</td>\n",
       "      <td>56.543224</td>\n",
       "      <td>36.022470</td>\n",
       "      <td>27.566613</td>\n",
       "      <td>19.630857</td>\n",
       "      <td>...</td>\n",
       "      <td>17.304064</td>\n",
       "      <td>17.178285</td>\n",
       "      <td>18.234640</td>\n",
       "      <td>27.349128</td>\n",
       "      <td>12.911390</td>\n",
       "      <td>73.334557</td>\n",
       "      <td>28.278437</td>\n",
       "      <td>19.630136</td>\n",
       "      <td>11.987731</td>\n",
       "      <td>41.747312</td>\n",
       "    </tr>\n",
       "  </tbody>\n",
       "</table>\n",
       "<p>7561 rows × 500 columns</p>\n",
       "</div>"
      ],
      "text/plain": [
       "            0          1          2          3          4          5    \\\n",
       "0      1.000000   1.000000   1.000000   1.000000   1.000000   1.000000   \n",
       "1      1.000926   1.012972   1.019805   1.001141   1.007738   1.005279   \n",
       "2      1.003038   1.014897   1.021643   1.010635   1.009506   1.019896   \n",
       "3      1.003563   1.008421   1.026839   0.998817   1.000206   1.016963   \n",
       "4      0.987016   0.994856   1.026691   0.998977   0.993373   1.020005   \n",
       "...         ...        ...        ...        ...        ...        ...   \n",
       "7556  23.039197  93.818561  20.741315  36.231106  32.414815  23.477601   \n",
       "7557  23.159017  92.047130  20.906643  36.174546  32.080347  23.559590   \n",
       "7558  22.908850  92.421186  20.935257  35.669168  31.523859  23.452299   \n",
       "7559  22.989378  91.708768  20.806974  36.255591  31.880509  23.474210   \n",
       "7560  23.147002  92.209420  21.416551  36.329175  31.685612  23.570782   \n",
       "\n",
       "            6          7          8          9    ...        490        491  \\\n",
       "0      1.000000   1.000000   1.000000   1.000000  ...   1.000000   1.000000   \n",
       "1      1.009653   0.996460   1.010431   0.994897  ...   1.000200   1.001681   \n",
       "2      1.009723   1.005831   0.999333   0.990565  ...   1.011991   0.998214   \n",
       "3      1.019753   1.012114   1.002148   0.994840  ...   1.020208   0.997273   \n",
       "4      1.033328   1.009669   0.991218   0.986754  ...   1.029205   0.996940   \n",
       "...         ...        ...        ...        ...  ...        ...        ...   \n",
       "7556  58.542275  35.017298  27.870039  18.915216  ...  17.306696  17.397196   \n",
       "7557  57.745802  35.497762  27.888477  19.016344  ...  17.258503  17.239608   \n",
       "7558  57.785482  35.565568  27.681552  19.347869  ...  17.386631  17.419197   \n",
       "7559  57.657968  36.027266  27.639103  19.272438  ...  17.365421  17.382350   \n",
       "7560  56.543224  36.022470  27.566613  19.630857  ...  17.304064  17.178285   \n",
       "\n",
       "            492        493        494        495        496        497  \\\n",
       "0      1.000000   1.000000   1.000000   1.000000   1.000000   1.000000   \n",
       "1      1.001335   1.006670   0.999726   0.987837   1.012181   1.002639   \n",
       "2      0.997879   1.022285   1.001034   0.998123   1.019739   1.016027   \n",
       "3      0.994567   1.001099   1.001009   1.003357   1.009746   0.996269   \n",
       "4      0.988049   0.991236   0.990973   0.994863   1.005706   1.000453   \n",
       "...         ...        ...        ...        ...        ...        ...   \n",
       "7556  18.445521  27.493104  12.853870  73.284178  28.566413  19.441114   \n",
       "7557  18.306005  27.242804  12.829684  73.450928  28.648515  19.294218   \n",
       "7558  18.182379  27.491410  12.769929  73.023724  28.198764  19.538602   \n",
       "7559  18.392275  27.147042  13.011635  72.742897  28.374881  19.554715   \n",
       "7560  18.234640  27.349128  12.911390  73.334557  28.278437  19.630136   \n",
       "\n",
       "            498        499  \n",
       "0      1.000000   1.000000  \n",
       "1      1.014398   0.996010  \n",
       "2      1.009293   0.988719  \n",
       "3      1.012551   0.997948  \n",
       "4      1.005717   1.008368  \n",
       "...         ...        ...  \n",
       "7556  12.024532  42.270139  \n",
       "7557  11.897336  41.661513  \n",
       "7558  11.990420  41.137999  \n",
       "7559  11.910022  41.510044  \n",
       "7560  11.987731  41.747312  \n",
       "\n",
       "[7561 rows x 500 columns]"
      ]
     },
     "execution_count": 80,
     "metadata": {},
     "output_type": "execute_result"
    }
   ],
   "source": [
    "# Run the Monte Carlo simulation to forecast 30 years cumulative returns\n",
    "MC_thirtyyear_6040.calc_cumulative_return()\n"
   ]
  },
  {
   "cell_type": "code",
   "execution_count": 85,
   "metadata": {},
   "outputs": [
    {
     "data": {
      "image/png": "[encoded data removed]",
      "text/plain": [
       "<Figure size 432x288 with 1 Axes>"
      ]
     },
     "metadata": {
      "needs_background": "light"
     },
     "output_type": "display_data"
    }
   ],
   "source": [
    "# Visualize the 30-year Monte Carlo simulation by creating an\n",
    "# overlay line plot\n",
    "line_plot_thirtyyear_6040 = MC_thirtyyear_6040.plot_simulation()\n"
   ]
  },
  {
   "cell_type": "markdown",
   "metadata": {},
   "source": [
    "#### Step 3: Plot the probability distribution of the Monte Carlo simulation."
   ]
  },
  {
   "cell_type": "code",
   "execution_count": 86,
   "metadata": {},
   "outputs": [
    {
     "data": {
      "image/png": "[encoded data removed]",
      "text/plain": [
       "<Figure size 432x288 with 1 Axes>"
      ]
     },
     "metadata": {
      "needs_background": "light"
     },
     "output_type": "display_data"
    }
   ],
   "source": [
    "# Visualize the probability distribution of the 30-year Monte Carlo simulation \n",
    "# by plotting a histogram\n",
    "distribution_plot_thirtyyear_6040 = MC_thirtyyear_6040.plot_distribution()"
   ]
  },
  {
   "cell_type": "markdown",
   "metadata": {},
   "source": [
    "#### Step 4: Generate the summary statistics for the Monte Carlo simulation."
   ]
  },
  {
   "cell_type": "code",
   "execution_count": 88,
   "metadata": {},
   "outputs": [
    {
     "name": "stdout",
     "output_type": "stream",
     "text": [
      "count           500.000000\n",
      "mean             45.099873\n",
      "std              47.309009\n",
      "min               4.696776\n",
      "25%              20.629495\n",
      "50%              32.776762\n",
      "75%              55.279187\n",
      "max             704.354411\n",
      "95% CI Lower      8.606110\n",
      "95% CI Upper    158.761435\n",
      "Name: 7560, dtype: float64\n"
     ]
    }
   ],
   "source": [
    "# Generate summary statistics from the 30-year Monte Carlo simulation results\n",
    "# Save the results as a variable\n",
    "thirtyyear_6040_table = MC_thirtyyear_6040.summarize_cumulative_return()\n",
    "\n",
    "\n",
    "# Review the 30-year Monte Carlo summary statistics\n",
    "print(thirtyyear_6040_table)"
   ]
  },
  {
   "cell_type": "markdown",
   "metadata": {},
   "source": [
    "### Analyze the Retirement Portfolio Forecasts\n",
    "\n",
    "Using the current value of only the stock and bond portion of the member's portfolio and the summary statistics that you generated from the Monte Carlo simulation, answer the following question in your Jupyter notebook:\n",
    "\n",
    "-  What are the lower and upper bounds for the expected value of the portfolio with a 95% confidence interval?\n"
   ]
  },
  {
   "cell_type": "code",
   "execution_count": 91,
   "metadata": {},
   "outputs": [
    {
     "name": "stdout",
     "output_type": "stream",
     "text": [
      "The current stock and bond portion of the members portfolio is: $72410.80\n"
     ]
    }
   ],
   "source": [
    "# Print the current balance of the stock and bond portion of the members portfolio\n",
    "print(\"The current stock and bond portion of the members portfolio is: $\" + \"{:.2f}\".format(round(total_stocks_bonds, 2)))"
   ]
  },
  {
   "cell_type": "code",
   "execution_count": 93,
   "metadata": {},
   "outputs": [
    {
     "name": "stdout",
     "output_type": "stream",
     "text": [
      "There is a 95% chance that an initial investment of $15,000 in the portfolio with an even weight portfolio over the next 5 years will end within in the range of $623175.28 and $11496042.52.\n"
     ]
    }
   ],
   "source": [
    "# Use the lower and upper `95%` confidence intervals to calculate the range of the possible outcomes for the current stock/bond portfolio\n",
    "ci_lower_thirty_cumulative_return = \"{:.2f}\".format(round(thirtyyear_6040_table[8] * total_stocks_bonds, 2))\n",
    "ci_upper_thirty_cumulative_return = \"{:.2f}\".format(round(thirtyyear_6040_table[9] * total_stocks_bonds, 2))\n",
    "\n",
    "# Print the result of your calculations\n",
    "print(f\"There is a 95% chance that an initial investment of $15,000 in the portfolio\"\n",
    "      f\" with an even weight portfolio over the next 5 years will end within in the range of\"\n",
    "      f\" ${ci_lower_thirty_cumulative_return} and ${ci_upper_thirty_cumulative_return}.\")"
   ]
  },
  {
   "cell_type": "markdown",
   "metadata": {},
   "source": [
    "### Forecast Cumulative Returns in 10 Years\n",
    "\n",
    "The CTO of the credit union is impressed with your work on these planning tools but wonders if 30 years is a long time to wait until retirement. So, your next task is to adjust the retirement portfolio and run a new Monte Carlo simulation to find out if the changes will allow members to retire earlier.\n",
    "\n",
    "For this new Monte Carlo simulation, do the following: \n",
    "\n",
    "- Forecast the cumulative returns for 10 years from now. Because of the shortened investment horizon (30 years to 10 years), the portfolio needs to invest more heavily in the riskier asset&mdash;that is, stock&mdash;to help accumulate wealth for retirement. \n",
    "\n",
    "- Adjust the weights of the retirement portfolio so that the composition for the Monte Carlo simulation consists of 20% bonds and 80% stocks. \n",
    "\n",
    "- Run the simulation over 500 samples, and use the same data that the API call to Alpaca generated.\n",
    "\n",
    "- Based on the new Monte Carlo simulation, answer the following questions in your Jupyter notebook:\n",
    "\n",
    "    - Using the current value of only the stock and bond portion of the member's portfolio and the summary statistics that you generated from the new Monte Carlo simulation, what are the lower and upper bounds for the expected value of the portfolio (with the new weights) with a 95% confidence interval?\n",
    "\n",
    "    - Will weighting the portfolio more heavily toward stocks allow the credit union members to retire after only 10 years?\n"
   ]
  },
  {
   "cell_type": "code",
   "execution_count": null,
   "metadata": {},
   "outputs": [],
   "source": [
    "# Configure a Monte Carlo simulation to forecast 10 years cumulative returns\n",
    "# The weights should be split 20% to AGG and 80% to SPY.\n",
    "# Run 500 samples.\n",
    "# YOUR CODE HERE\n",
    "\n",
    "# Review the simulation input data\n",
    "# YOUR CODE HERE\n"
   ]
  },
  {
   "cell_type": "code",
   "execution_count": null,
   "metadata": {},
   "outputs": [],
   "source": [
    "# Run the Monte Carlo simulation to forecast 10 years cumulative returns\n",
    "# YOUR CODE HERE\n"
   ]
  },
  {
   "cell_type": "code",
   "execution_count": null,
   "metadata": {},
   "outputs": [],
   "source": [
    "# Visualize the 10-year Monte Carlo simulation by creating an\n",
    "# overlay line plot\n",
    "# YOUR CODE HERE\n"
   ]
  },
  {
   "cell_type": "code",
   "execution_count": null,
   "metadata": {},
   "outputs": [],
   "source": [
    "# Visualize the probability distribution of the 10-year Monte Carlo simulation \n",
    "# by plotting a histogram\n",
    "# YOUR CODE HERE\n"
   ]
  },
  {
   "cell_type": "code",
   "execution_count": null,
   "metadata": {},
   "outputs": [],
   "source": [
    "# Generate summary statistics from the 10-year Monte Carlo simulation results\n",
    "# Save the results as a variable\n",
    "# YOUR CODE HERE\n",
    "\n",
    "\n",
    "# Review the 10-year Monte Carlo summary statistics\n",
    "# YOUR CODE HERE"
   ]
  },
  {
   "cell_type": "markdown",
   "metadata": {},
   "source": [
    "### Answer the following questions:"
   ]
  },
  {
   "cell_type": "markdown",
   "metadata": {},
   "source": [
    "#### Question: Using the current value of only the stock and bond portion of the member's portfolio and the summary statistics that you generated from the new Monte Carlo simulation, what are the lower and upper bounds for the expected value of the portfolio (with the new weights) with a 95% confidence interval?"
   ]
  },
  {
   "cell_type": "code",
   "execution_count": null,
   "metadata": {},
   "outputs": [],
   "source": [
    "# Print the current balance of the stock and bond portion of the members portfolio\n",
    "# YOUR CODE HERE\n"
   ]
  },
  {
   "cell_type": "code",
   "execution_count": null,
   "metadata": {},
   "outputs": [],
   "source": [
    "# Use the lower and upper `95%` confidence intervals to calculate the range of the possible outcomes for the current stock/bond portfolio\n",
    "ci_lower_ten_cumulative_return = # YOUR CODE HERE\n",
    "ci_upper_ten_cumulative_return = # YOUR CODE HERE\n",
    "\n",
    "# Print the result of your calculations\n",
    "# YOUR CODE HERE\n"
   ]
  },
  {
   "cell_type": "markdown",
   "metadata": {},
   "source": [
    "#### Question: Will weighting the portfolio more heavily to stocks allow the credit union members to retire after only 10 years?"
   ]
  },
  {
   "cell_type": "raw",
   "metadata": {},
   "source": [
    "**Answer** # YOUR ANSWER HERE"
   ]
  },
  {
   "cell_type": "code",
   "execution_count": null,
   "metadata": {},
   "outputs": [],
   "source": []
  }
 ],
 "metadata": {
  "kernelspec": {
   "display_name": "Python (dev)",
   "language": "python",
   "name": "dev"
  },
  "language_info": {
   "codemirror_mode": {
    "name": "ipython",
    "version": 3
   },
   "file_extension": ".py",
   "mimetype": "text/x-python",
   "name": "python",
   "nbconvert_exporter": "python",
   "pygments_lexer": "ipython3",
   "version": "3.7.10"
  }
 },
 "nbformat": 4,
 "nbformat_minor": 4
}
